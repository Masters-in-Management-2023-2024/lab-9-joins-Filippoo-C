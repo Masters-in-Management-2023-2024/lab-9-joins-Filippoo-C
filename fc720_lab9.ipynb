{
  "cells": [
    {
      "cell_type": "markdown",
      "metadata": {
        "id": "gs_wOGI5yU1w"
      },
      "source": [
        "# OPAN5510 Lab Assignment - Joins\n",
        "\n",
        "This lab focuses on using Polars to perform data joins and aggregations to answer business questions."
      ]
    },
    {
      "cell_type": "markdown",
      "metadata": {
        "id": "1RC5vZJsyU1x"
      },
      "source": [
        "# Bike Trips Dataset\n",
        "\n",
        "## Prerequisites\n",
        "\n",
        "For this assignment, you'll need to use Polars for data manipulation.\n",
        "\n",
        "*Insert a code block to import necessary packages (polars)*"
      ]
    },
    {
      "cell_type": "code",
      "execution_count": 4,
      "metadata": {
        "id": "U6sEu6oqyU1x"
      },
      "outputs": [],
      "source": [
        "import polars as pl"
      ]
    },
    {
      "cell_type": "markdown",
      "metadata": {
        "id": "BcAhQENByU1x"
      },
      "source": [
        "## Load Datasets\n",
        "\n",
        "Load the `bike_trips.csv` and `bike_weather.csv` files into Polars DataFrames called `trips` and `weather`, respectively.\n",
        "\n",
        "*Insert code block that reads these files into Polars DataFrames*"
      ]
    },
    {
      "cell_type": "code",
      "execution_count": 5,
      "metadata": {
        "colab": {
          "base_uri": "https://localhost:8080/"
        },
        "id": "O1NJ_d1SyU1x",
        "outputId": "980b81a0-7f32-43d5-ddc9-2b72624c890a"
      },
      "outputs": [
        {
          "output_type": "stream",
          "name": "stdout",
          "text": [
            "78704\n",
            "733\n"
          ]
        }
      ],
      "source": [
        "# Load the bike trips and weather data\n",
        "trips = pl.read_csv(\"https://raw.githubusercontent.com/philhetzel/opan5510-class9/refs/heads/main/data/bike_trips.csv\", null_values='NA')\n",
        "weather = pl.read_csv(\"https://raw.githubusercontent.com/philhetzel/opan5510-class9/refs/heads/main/data/bike_weather.csv\", null_values=['NA',''])\n",
        "\n",
        "trips = trips.with_columns(pl.col(\"date\").str.strptime(pl.Date, \"%Y-%m-%d\").alias(\"date\")) # ensure date column is typed correctly\n",
        "weather = weather.with_columns(pl.col(\"date\").str.strptime(pl.Date, \"%Y-%m-%d\").alias(\"date\")) # ensure date column is typed correctly\n",
        "print(trips.height)\n",
        "print(weather.height)"
      ]
    },
    {
      "cell_type": "markdown",
      "metadata": {
        "id": "R04JtG9EyU1x"
      },
      "source": [
        "## Business Question 1: What was the average `duration` of trips that occurred in rainy weather?\n",
        "\n",
        "#### Part A: Join the trips and weather data frames\n",
        "\n",
        "The `trips` data represent every ride taken for a bike share company. The `weather` data represent the prevailing weather for a particular day. Join the `trips` and `weather` data together using the `date` column. Name the resulting DataFrame `trips_weather`.\n",
        "\n",
        "*Insert a code block below that joins `trips` to `weather` using the `date` column.*"
      ]
    },
    {
      "cell_type": "code",
      "execution_count": 6,
      "metadata": {
        "id": "LMuv46gAyU1y"
      },
      "outputs": [],
      "source": [
        "trips_weather = trips.join(weather, on=\"date\", how=\"inner\")\n"
      ]
    },
    {
      "cell_type": "markdown",
      "metadata": {
        "id": "jAmIh2v9yU1y"
      },
      "source": [
        "#### Part B: Calculate the average `duration` of trips in poor weather\n",
        "\n",
        "Using the `trips_weather` DataFrame, compute the average trip `duration` for days that had weather `events` (i.e. anytime a day had an event of anything but `null`). Name the column for average `duration`: `avg_duration`. The resulting DataFrame should have one row and be named `avg_bad_weather`.\n",
        "\n",
        "*Insert a code block that shows the computation of the average trip duration for days that had a weather event.*"
      ]
    },
    {
      "cell_type": "code",
      "execution_count": 7,
      "metadata": {
        "id": "GfK-KPe2yU1y",
        "colab": {
          "base_uri": "https://localhost:8080/"
        },
        "outputId": "4715f53d-7ed6-4028-f463-9f40fd8ddd5d"
      },
      "outputs": [
        {
          "output_type": "stream",
          "name": "stdout",
          "text": [
            "shape: (1, 1)\n",
            "┌──────────────┐\n",
            "│ avg_duration │\n",
            "│ ---          │\n",
            "│ f64          │\n",
            "╞══════════════╡\n",
            "│ 10.34899     │\n",
            "└──────────────┘\n"
          ]
        }
      ],
      "source": [
        "# Filter for days that had any weather event (non-null)\n",
        "avg_bad_weather = (trips_weather.filter(pl.col(\"events\").is_not_null())\n",
        " .select(pl.col(\"duration\"))\n",
        "    .mean()\n",
        "    .rename({\"duration\": \"avg_duration\"}))\n",
        "print(avg_bad_weather)\n"
      ]
    },
    {
      "cell_type": "markdown",
      "metadata": {
        "id": "r1HZVy2qyU1y"
      },
      "source": [
        "# Baseball Dataset\n",
        "\n",
        "## Load Data\n",
        "\n",
        "Load the `Batting.csv`, `People.csv`, and `HallOfFame.csv` datasets into Polars DataFrames.\n",
        "\n",
        "*Insert a code block to load your datasets*"
      ]
    },
    {
      "cell_type": "code",
      "execution_count": 8,
      "metadata": {
        "id": "qrZO72DTyU1y"
      },
      "outputs": [],
      "source": [
        "# Load baseball datasets\n",
        "Batting = pl.read_csv(\"https://raw.githubusercontent.com/philhetzel/opan5510-class9/refs/heads/main/data/Batting.csv\", null_values='NA')\n",
        "People = pl.read_csv(\"https://raw.githubusercontent.com/philhetzel/opan5510-class9/refs/heads/main/data/People.csv\", null_values='NA')\n",
        "HallOfFame = pl.read_csv(\"https://raw.githubusercontent.com/philhetzel/opan5510-class9/refs/heads/main/data/HallOfFame.csv\", null_values='NA')\n"
      ]
    },
    {
      "cell_type": "markdown",
      "metadata": {
        "id": "M9wo7SwoyU1y"
      },
      "source": [
        "## Question 2: How many home runs (`HR`) were hit by players born in Florida?\n",
        "\n",
        "#### Part A: Join the `Batting` and `People` DataFrames together\n",
        "\n",
        "In order to answer this question, you'll need to use the `Batting` and `People` DataFrames. The `Batting` DataFrame has hitting statistics for every season that an individual player has played. The `People` DataFrame represents biographical data about every professional baseball player.\n",
        "\n",
        "Join the `People` DataFrame into the `Batting` DataFrame so that we can perform analysis on batting statistics using columns from the `People` DataFrame. Name the new DataFrame `stats_w_bio`.\n",
        "\n",
        "*Insert a code block that joins the `Batting` DataFrame to the `People` DataFrame.*"
      ]
    },
    {
      "cell_type": "code",
      "execution_count": 9,
      "metadata": {
        "id": "BOYs3snEyU1y"
      },
      "outputs": [],
      "source": [
        "stats_w_bio = Batting.join(People, on=\"playerID\", how=\"inner\")\n"
      ]
    },
    {
      "cell_type": "markdown",
      "metadata": {
        "id": "Pr63NEFcyU1y"
      },
      "source": [
        "#### Part B: Calculate the total number of home runs that were hit by Florida-born players\n",
        "\n",
        "You would like to perform an analysis about how many home runs (`HR`) were hit by players that were born in the `birthState` of Florida (`FL`). Using the new `stats_w_bio` DataFrame that combines batting statistics with biographical information, compute the total number of home runs (`HR`) hit by players who were born (`birthState`) in Florida (`FL`) and name the new column `total_hr`. The DataFrame should have one row and be named `florida_hr`.\n",
        "\n",
        "*Insert a block of code that shows the computation of total home runs hit by players born in Florida. The output of this code block should be a DataFrame.*"
      ]
    },
    {
      "cell_type": "code",
      "execution_count": 10,
      "metadata": {
        "id": "bBGsxFDUyU1y",
        "colab": {
          "base_uri": "https://localhost:8080/",
          "height": 128
        },
        "outputId": "82f3fc17-5508-4d28-c6fe-32de62a499e2"
      },
      "outputs": [
        {
          "output_type": "execute_result",
          "data": {
            "text/plain": [
              "shape: (1, 1)\n",
              "┌──────────┐\n",
              "│ total_hr │\n",
              "│ ---      │\n",
              "│ i64      │\n",
              "╞══════════╡\n",
              "│ 16225    │\n",
              "└──────────┘"
            ],
            "text/html": [
              "<div><style>\n",
              ".dataframe > thead > tr,\n",
              ".dataframe > tbody > tr {\n",
              "  text-align: right;\n",
              "  white-space: pre-wrap;\n",
              "}\n",
              "</style>\n",
              "<small>shape: (1, 1)</small><table border=\"1\" class=\"dataframe\"><thead><tr><th>total_hr</th></tr><tr><td>i64</td></tr></thead><tbody><tr><td>16225</td></tr></tbody></table></div>"
            ]
          },
          "metadata": {},
          "execution_count": 10
        }
      ],
      "source": [
        "florida_hr = (stats_w_bio.filter(pl.col(\"birthState\") == \"FL\")\n",
        "    .select(pl.col(\"HR\").fill_null(0).sum().alias(\"total_hr\")))\n",
        "florida_hr\n"
      ]
    },
    {
      "cell_type": "markdown",
      "metadata": {
        "id": "d5v5qjkayU1y"
      },
      "source": [
        "## Question 3: What are the average number of career Hits (`H`) for Hall of Fame baseball players?\n",
        "\n",
        "#### Part A: Clean the `HallOfFame` DataFrame\n",
        "\n",
        "You would like to perform an analysis on the batting statistics of Hall of Fame baseball players. In order to answer this question, you'll need to use the `Batting` and `HallOfFame` DataFrames.\n",
        "\n",
        "The first thing that you have to do to perform this analysis is to join the `HallOfFame` data into the `Batting` data to understand which players are \"Hall of Famers\". To join the data correctly, we have to ensure that the `playerID` field is unique in `HallOfFame`. Not every player in the `HallOfFame` DataFrame is a Hall of Famer; their `inducted` field must have the value of `Y` and their `category` field should have the value of `Player`. Name the new DataFrame `hall_inducted`.\n",
        "\n",
        "*Insert a code block to transform the `HallOfFame` DataFrame to ensure that `playerID` is unique.*"
      ]
    },
    {
      "cell_type": "code",
      "execution_count": 11,
      "metadata": {
        "id": "P0lc9qLPyU1y",
        "colab": {
          "base_uri": "https://localhost:8080/",
          "height": 438
        },
        "outputId": "afd4597e-1af8-4710-9aa1-2ff418094414"
      },
      "outputs": [
        {
          "output_type": "execute_result",
          "data": {
            "text/plain": [
              "shape: (270, 1)\n",
              "┌───────────┐\n",
              "│ playerID  │\n",
              "│ ---       │\n",
              "│ str       │\n",
              "╞═══════════╡\n",
              "│ mcphebi01 │\n",
              "│ ferreri01 │\n",
              "│ yountro01 │\n",
              "│ riceji01  │\n",
              "│ kaatji01  │\n",
              "│ …         │\n",
              "│ baineha01 │\n",
              "│ fellebo01 │\n",
              "│ jeterde01 │\n",
              "│ hamilbi01 │\n",
              "│ wardjo01  │\n",
              "└───────────┘"
            ],
            "text/html": [
              "<div><style>\n",
              ".dataframe > thead > tr,\n",
              ".dataframe > tbody > tr {\n",
              "  text-align: right;\n",
              "  white-space: pre-wrap;\n",
              "}\n",
              "</style>\n",
              "<small>shape: (270, 1)</small><table border=\"1\" class=\"dataframe\"><thead><tr><th>playerID</th></tr><tr><td>str</td></tr></thead><tbody><tr><td>&quot;mcphebi01&quot;</td></tr><tr><td>&quot;ferreri01&quot;</td></tr><tr><td>&quot;yountro01&quot;</td></tr><tr><td>&quot;riceji01&quot;</td></tr><tr><td>&quot;kaatji01&quot;</td></tr><tr><td>&hellip;</td></tr><tr><td>&quot;baineha01&quot;</td></tr><tr><td>&quot;fellebo01&quot;</td></tr><tr><td>&quot;jeterde01&quot;</td></tr><tr><td>&quot;hamilbi01&quot;</td></tr><tr><td>&quot;wardjo01&quot;</td></tr></tbody></table></div>"
            ]
          },
          "metadata": {},
          "execution_count": 11
        }
      ],
      "source": [
        "hall_inducted = (HallOfFame.filter((pl.col(\"inducted\") == \"Y\") & (pl.col(\"category\") == \"Player\"))\n",
        "    .select(\"playerID\")\n",
        "    .unique())\n",
        "hall_inducted\n"
      ]
    },
    {
      "cell_type": "markdown",
      "metadata": {
        "id": "A6z9HFdjyU1y"
      },
      "source": [
        "#### Part B: Find the average number of career hits across Hall of Fame players\n",
        "\n",
        "Join the `hall_inducted` data into the `Batting` data by `playerID`. Aggregate the data to compute the average total hits (`H`) across all Hall of Fame players. To do this, you will first need to calculate the total number of hits for each player and then calculate the average hits across all players. Call the new column `average_hits`. The resulting DataFrame should have one row and be named `hof_hits`.\n",
        "\n",
        "*Insert a code block that joins the `Batting` and the `hall_inducted` data together and then calculates the average number of career hits (`H`) across all Hall of Fame players. The output of this code block should be a DataFrame.*"
      ]
    },
    {
      "cell_type": "code",
      "execution_count": 13,
      "metadata": {
        "id": "JzWY4cVbyU1y",
        "colab": {
          "base_uri": "https://localhost:8080/",
          "height": 128
        },
        "outputId": "3b5a930f-feab-4074-99b0-5e205fd68b7f"
      },
      "outputs": [
        {
          "output_type": "execute_result",
          "data": {
            "text/plain": [
              "shape: (1, 1)\n",
              "┌──────────────┐\n",
              "│ average_hits │\n",
              "│ ---          │\n",
              "│ f64          │\n",
              "╞══════════════╡\n",
              "│ 1717.29918   │\n",
              "└──────────────┘"
            ],
            "text/html": [
              "<div><style>\n",
              ".dataframe > thead > tr,\n",
              ".dataframe > tbody > tr {\n",
              "  text-align: right;\n",
              "  white-space: pre-wrap;\n",
              "}\n",
              "</style>\n",
              "<small>shape: (1, 1)</small><table border=\"1\" class=\"dataframe\"><thead><tr><th>average_hits</th></tr><tr><td>f64</td></tr></thead><tbody><tr><td>1717.29918</td></tr></tbody></table></div>"
            ]
          },
          "metadata": {},
          "execution_count": 13
        }
      ],
      "source": [
        "hof_batting = Batting.join(hall_inducted, on=\"playerID\", how=\"inner\")\n",
        "\n",
        "hof_hits = (hof_batting.group_by(\"playerID\").agg(pl.col(\"H\").fill_null(0).sum().alias(\"career_hits\"))\n",
        "    .select(pl.col(\"career_hits\").mean().alias(\"average_hits\")))\n",
        "hof_hits\n"
      ]
    }
  ],
  "metadata": {
    "kernelspec": {
      "display_name": "Python 3",
      "language": "python",
      "name": "python3"
    },
    "language_info": {
      "codemirror_mode": {
        "name": "ipython",
        "version": 3
      },
      "file_extension": ".py",
      "mimetype": "text/x-python",
      "name": "python",
      "nbconvert_exporter": "python",
      "pygments_lexer": "ipython3",
      "version": "3.12.0"
    },
    "colab": {
      "provenance": []
    }
  },
  "nbformat": 4,
  "nbformat_minor": 0
}